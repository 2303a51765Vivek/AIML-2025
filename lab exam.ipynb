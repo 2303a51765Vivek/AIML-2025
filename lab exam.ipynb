{
  "nbformat": 4,
  "nbformat_minor": 0,
  "metadata": {
    "colab": {
      "provenance": [],
      "authorship_tag": "ABX9TyPT8d29Rc+V07naGf8fYWbZ",
      "include_colab_link": true
    },
    "kernelspec": {
      "name": "python3",
      "display_name": "Python 3"
    },
    "language_info": {
      "name": "python"
    }
  },
  "cells": [
    {
      "cell_type": "markdown",
      "metadata": {
        "id": "view-in-github",
        "colab_type": "text"
      },
      "source": [
        "<a href=\"https://colab.research.google.com/github/2303a51765Vivek/AIML-2025/blob/main/lab%20exam.ipynb\" target=\"_parent\"><img src=\"https://colab.research.google.com/assets/colab-badge.svg\" alt=\"Open In Colab\"/></a>"
      ]
    },
    {
      "cell_type": "markdown",
      "source": [
        "itentify the top 10 turkish business"
      ],
      "metadata": {
        "id": "KXdHVfPc-yMp"
      }
    },
    {
      "cell_type": "code",
      "source": [
        "import pandas as pd\n",
        "\n",
        "\n",
        "data = {\n",
        "    'startup_name': ['Startup1', 'Startup2', 'Startup3', 'Startup4', 'Startup5',\n",
        "                     'Startup6', 'Startup7', 'Startup8', 'Startup9', 'Startup10'],\n",
        "    'funding_amount': [1000000, 5000000, 3000000, 2000000, 1500000,\n",
        "                       4000000, 2500000, 6000000, 3500000, 4500000]\n",
        "}\n",
        "startups_df = pd.DataFrame(data)\n",
        "\n",
        "\n",
        "top_startups = startups_df.nlargest(10, 'funding_amount')\n",
        "print(top_startups)"
      ],
      "metadata": {
        "colab": {
          "base_uri": "https://localhost:8080/"
        },
        "id": "1lVLN5FF9EjH",
        "outputId": "db570a10-394e-4734-e1d0-5d42379e846a"
      },
      "execution_count": null,
      "outputs": [
        {
          "output_type": "stream",
          "name": "stdout",
          "text": [
            "  startup_name  funding_amount\n",
            "7     Startup8         6000000\n",
            "1     Startup2         5000000\n",
            "9    Startup10         4500000\n",
            "5     Startup6         4000000\n",
            "8     Startup9         3500000\n",
            "2     Startup3         3000000\n",
            "6     Startup7         2500000\n",
            "3     Startup4         2000000\n",
            "4     Startup5         1500000\n",
            "0     Startup1         1000000\n"
          ]
        }
      ]
    },
    {
      "cell_type": "markdown",
      "source": [
        "Find max and min crowdsourced funding obtained by turkey"
      ],
      "metadata": {
        "id": "Y8w5O9_s-8DC"
      }
    },
    {
      "cell_type": "code",
      "source": [
        "max_funding = startups_df['funding_amount'].max()\n",
        "min_funding = startups_df['funding_amount'].min()\n",
        "\n",
        "print(f\"Max Crowdsourced Funding: {max_funding}\")\n",
        "print(f\"Min Crowdsourced Funding: {min_funding}\")\n"
      ],
      "metadata": {
        "colab": {
          "base_uri": "https://localhost:8080/"
        },
        "id": "kNNhSOta9y5G",
        "outputId": "4920e006-f1fb-4740-e6f5-2b95e78e72c1"
      },
      "execution_count": null,
      "outputs": [
        {
          "output_type": "stream",
          "name": "stdout",
          "text": [
            "Max Crowdsourced Funding: 6000000\n",
            "Min Crowdsourced Funding: 1000000\n"
          ]
        }
      ]
    },
    {
      "cell_type": "markdown",
      "source": [
        "Name the gender which has acquired the most funding for the startups."
      ],
      "metadata": {
        "id": "VNp-SI4d_T0-"
      }
    },
    {
      "cell_type": "code",
      "source": [
        "import pandas as pd\n",
        "\n",
        "\n",
        "data = {\n",
        "    'startup_name': ['Startup1', 'Startup2', 'Startup3', 'Startup4', 'Startup5',\n",
        "                     'Startup6', 'Startup7', 'Startup8', 'Startup9', 'Startup10'],\n",
        "    'funding_amount': [1000000, 5000000, 3000000, 2000000, 1500000,\n",
        "                       4000000, 2500000, 6000000, 3500000, 4500000]\n",
        "}\n",
        "startups_df = pd.DataFrame(data)\n",
        "\n",
        "\n",
        "startups_df['gender'] = ['Male', 'Female', 'Male', 'Female', 'Male',\n",
        "                         'Female', 'Male', 'Female', 'Male', 'Female']\n",
        "\n",
        "\n",
        "gender_funding = startups_df.groupby('gender')['funding_amount'].sum()\n",
        "top_gender = gender_funding.idxmax()\n",
        "\n",
        "print(f\"The gender that has acquired the most funding is: {top_gender}\")"
      ],
      "metadata": {
        "colab": {
          "base_uri": "https://localhost:8080/"
        },
        "id": "G1EBjPdI_jUm",
        "outputId": "f91525d3-9a44-49d5-cf93-33470bea9c8a"
      },
      "execution_count": null,
      "outputs": [
        {
          "output_type": "stream",
          "name": "stdout",
          "text": [
            "The gender that has acquired the most funding is: Female\n"
          ]
        }
      ]
    },
    {
      "cell_type": "markdown",
      "source": [
        "identify the top-5 cities where the startup is most."
      ],
      "metadata": {
        "id": "9c15bNmM_xxW"
      }
    },
    {
      "cell_type": "code",
      "source": [
        "\n",
        "startups_df['city'] = startups_df['startup_name'].str.extract('(\\d+)').astype(int)\n",
        "\n",
        "top_cities = startups_df['city'].value_counts().nlargest(5)\n",
        "print(top_cities)"
      ],
      "metadata": {
        "colab": {
          "base_uri": "https://localhost:8080/"
        },
        "id": "sol5lQJZ_yHf",
        "outputId": "d00ca844-94c8-4e61-fb15-2216ec09db73"
      },
      "execution_count": null,
      "outputs": [
        {
          "output_type": "stream",
          "name": "stdout",
          "text": [
            "city\n",
            "1    1\n",
            "2    1\n",
            "3    1\n",
            "4    1\n",
            "5    1\n",
            "Name: count, dtype: int64\n"
          ]
        }
      ]
    },
    {
      "cell_type": "markdown",
      "source": [
        "Name top 5 technologies popular in turkish startups."
      ],
      "metadata": {
        "id": "GBsUPauKAPV6"
      }
    },
    {
      "cell_type": "code",
      "source": [
        "\n",
        "technologies = ['AI', 'Biotech', 'Fintech', 'E-commerce', 'SaaS',\n",
        "                'AI', 'Biotech', 'Fintech', 'E-commerce', 'SaaS']\n",
        "\n",
        "startups_df['technology'] = technologies\n",
        "\n",
        "\n",
        "top_technologies = startups_df['technology'].value_counts().nlargest(5)\n",
        "print(top_technologies)"
      ],
      "metadata": {
        "colab": {
          "base_uri": "https://localhost:8080/"
        },
        "id": "9xGn3grhAPk0",
        "outputId": "a411c69b-2659-4d36-f58f-a631d2059de1"
      },
      "execution_count": null,
      "outputs": [
        {
          "output_type": "stream",
          "name": "stdout",
          "text": [
            "technology\n",
            "AI            2\n",
            "Biotech       2\n",
            "Fintech       2\n",
            "E-commerce    2\n",
            "SaaS          2\n",
            "Name: count, dtype: int64\n"
          ]
        }
      ]
    },
    {
      "cell_type": "markdown",
      "source": [
        "Apply either Classification or Clustering or Regression Model and evaluate the accuracy, error metrics of the model"
      ],
      "metadata": {
        "id": "Ssd1Xm70A5an"
      }
    },
    {
      "cell_type": "code",
      "source": [
        "import pandas as pd\n",
        "import numpy as np\n",
        "from sklearn.model_selection import train_test_split\n",
        "from sklearn.linear_model import LinearRegression\n",
        "from sklearn.metrics import mean_squared_error, r2_score\n",
        "\n",
        "\n",
        "np.random.seed(42)\n",
        "data = {\n",
        "    'feature1': np.random.rand(100) * 100,\n",
        "    'feature2': np.random.rand(100) * 50,\n",
        "    'funding_amount': np.random.rand(100) * 1000000\n",
        "}\n",
        "\n",
        "startups_df = pd.DataFrame(data)\n",
        "\n",
        "\n",
        "X = startups_df[['feature1', 'feature2']]\n",
        "y = startups_df['funding_amount']\n",
        "\n",
        "\n",
        "X_train, X_test, y_train, y_test = train_test_split(X, y, test_size=0.2, random_state=42)\n",
        "\n",
        "\n",
        "model = LinearRegression()\n",
        "model.fit(X_train, y_train)\n",
        "\n",
        "\n",
        "y_pred = model.predict(X_test)\n",
        "\n",
        "\n",
        "mse = mean_squared_error(y_test, y_pred)\n",
        "r2 = r2_score(y_test, y_pred)\n",
        "\n",
        "print(f\"Mean Squared Error: {mse}\")\n",
        "print(f\"R^2 Score: {r2}\")"
      ],
      "metadata": {
        "colab": {
          "base_uri": "https://localhost:8080/"
        },
        "id": "pFo67BELA5pO",
        "outputId": "7170c0a5-1361-484f-95fe-c555e4d6f1a2"
      },
      "execution_count": null,
      "outputs": [
        {
          "output_type": "stream",
          "name": "stdout",
          "text": [
            "Mean Squared Error: 113254983231.28801\n",
            "R^2 Score: -0.2693632318143735\n"
          ]
        }
      ]
    }
  ]
}